{
 "cells": [
  {
   "cell_type": "markdown",
   "metadata": {},
   "source": [
    "# Recommender Systems and Collaborative Filtering"
   ]
  },
  {
   "cell_type": "raw",
   "metadata": {},
   "source": [
    "Implementation of Collaborative Filtering on dataset with films'ratings.\n",
    "First of all, let's download datasets and create a matrix of ratings. "
   ]
  },
  {
   "cell_type": "code",
   "execution_count": null,
   "metadata": {},
   "outputs": [],
   "source": [
    "import os\n",
    "import numpy as np\n",
    "import pandas as pd\n",
    "import matplotlib.pyplot as plt\n",
    "from tqdm import tqdm_notebook\n",
    "\n",
    "%matplotlib inline\n",
    "\n",
    "plt.style.use('ggplot')\n",
    "plt.rcParams['figure.figsize'] = (12, 6)"
   ]
  },
  {
   "cell_type": "code",
   "execution_count": null,
   "metadata": {},
   "outputs": [],
   "source": [
    "filepath = './data/user_ratedmovies.dat'  #dataset with users's rating for each film\n",
    "df_rates = pd.read_csv(filepath, sep='\\t')"
   ]
  },
  {
   "cell_type": "code",
   "execution_count": null,
   "metadata": {},
   "outputs": [],
   "source": [
    "filepath = './data/movies.dat'  #film id and more detailed other information about it\n",
    "df_movies = pd.read_csv(filepath, sep='\\t', encoding='iso-8859-1')"
   ]
  },
  {
   "cell_type": "markdown",
   "metadata": {},
   "source": [
    "# Encoding films ID and users ID"
   ]
  },
  {
   "cell_type": "code",
   "execution_count": null,
   "metadata": {},
   "outputs": [],
   "source": [
    "from sklearn.preprocessing import LabelEncoder"
   ]
  },
  {
   "cell_type": "code",
   "execution_count": null,
   "metadata": {},
   "outputs": [],
   "source": [
    "enc_user = LabelEncoder()\n",
    "enc_mov = LabelEncoder()"
   ]
  },
  {
   "cell_type": "code",
   "execution_count": null,
   "metadata": {},
   "outputs": [],
   "source": [
    "enc_user = enc_user.fit(df_rates.userID.values)\n",
    "enc_mov = enc_mov.fit(df_rates.movieID.values)"
   ]
  },
  {
   "cell_type": "code",
   "execution_count": null,
   "metadata": {},
   "outputs": [],
   "source": [
    "idx = df_movies.loc[:, 'id'].isin(df_rates.movieID)\n",
    "df_movies = df_movies.loc[idx]"
   ]
  },
  {
   "cell_type": "code",
   "execution_count": null,
   "metadata": {},
   "outputs": [],
   "source": [
    "df_rates.loc[:, 'userID'] = enc_user.transform(df_rates.loc[:, 'userID'].values)\n",
    "df_rates.loc[:, 'movieID'] = enc_mov.transform(df_rates.loc[:, 'movieID'].values)\n",
    "df_movies.loc[:, 'id'] = enc_mov.transform(df_movies.loc[:, 'id'].values)"
   ]
  },
  {
   "cell_type": "code",
   "execution_count": null,
   "metadata": {},
   "outputs": [],
   "source": [
    "df_rates.head()"
   ]
  },
  {
   "cell_type": "markdown",
   "metadata": {},
   "source": [
    "## Building a Matrix of ratings"
   ]
  },
  {
   "cell_type": "code",
   "execution_count": null,
   "metadata": {},
   "outputs": [],
   "source": [
    "from scipy.sparse import coo_matrix, csr_matrix"
   ]
  },
  {
   "cell_type": "code",
   "execution_count": null,
   "metadata": {},
   "outputs": [],
   "source": [
    "R = coo_matrix((df_rates.rating.values, (df_rates.userID.values, df_rates.movieID.values)))"
   ]
  },
  {
   "cell_type": "code",
   "execution_count": null,
   "metadata": {},
   "outputs": [],
   "source": [
    "R"
   ]
  },
  {
   "cell_type": "markdown",
   "metadata": {},
   "source": [
    "## Similarity between users"
   ]
  },
  {
   "cell_type": "markdown",
   "metadata": {},
   "source": [
    "In the future, it will be more convenient for us to work with the 'Compressed Sparse Row matrix format'. Fortunately, we can transform the resulting matrix with one command:"
   ]
  },
  {
   "cell_type": "code",
   "execution_count": null,
   "metadata": {
    "scrolled": true
   },
   "outputs": [],
   "source": [
    "R = R.tocsr()"
   ]
  },
  {
   "cell_type": "markdown",
   "metadata": {},
   "source": [
    "Now, for example, the ratings for the first user can be obtained like this:"
   ]
  },
  {
   "cell_type": "code",
   "execution_count": null,
   "metadata": {},
   "outputs": [],
   "source": [
    "user_1 = R[0]\n",
    "user_1"
   ]
  },
  {
   "cell_type": "code",
   "execution_count": null,
   "metadata": {},
   "outputs": [],
   "source": [
    "user_1.dot(user_2.T)[0, 0]"
   ]
  },
  {
   "cell_type": "markdown",
   "metadata": {},
   "source": [
    "And we can transform a sparse matrix (vector) into a dense one using the following command:"
   ]
  },
  {
   "cell_type": "code",
   "execution_count": null,
   "metadata": {},
   "outputs": [],
   "source": [
    "user_1_dense = user_1.toarray()\n",
    "user_1_dense"
   ]
  },
  {
   "cell_type": "markdown",
   "metadata": {},
   "source": [
    "Let's try to implement the function of calculating the similarity between a pair of users $u$ and $v$:\n",
    "\n",
    "$$ s_{uv} = \\frac{\\sum\\limits_{i \\in I_u\\cap I_v} R_{ui} R_{vi}}{\\sqrt{{\\sum\\limits_{i \\in I_u\\cap I_v}R_{ui}^2}}\\sqrt{{\\sum\\limits_{i \\in I_u\\cap I_v}R_{vi}^2}}}$$\n",
    "\n",
    "Let's assume that if the number of movies that user $ u $ and $ v $ watched together is $ <= 2 $, then their cosine measure is 0.0.\n"
   ]
  },
  {
   "cell_type": "code",
   "execution_count": null,
   "metadata": {},
   "outputs": [],
   "source": [
    "def cosine_similarity_pair_users(u, v):\n",
    "    u_rated = (u != 0)\n",
    "    v_rated = (v != 0)\n",
    "    common_items = (u_rated).multiply(v_rated)\n",
    "    if common_items.nnz > 2:\n",
    "        scalar = u.dot(v.T)[0, 0]\n",
    "        norm = np.linalg.norm(u[common_items]) * np.linalg.norm(v[common_items])\n",
    "        return scalar / norm\n",
    "    else:\n",
    "        return 0.0"
   ]
  },
  {
   "cell_type": "markdown",
   "metadata": {},
   "source": [
    "## Rating prediction function"
   ]
  },
  {
   "cell_type": "markdown",
   "metadata": {},
   "source": [
    "Let's implement a function that takes as input:\n",
    "* Users's index\n",
    "* Matrix of ratings\n",
    "* The number of nearest neighbors (despite the fact that each user is a closest neighbor to itself, it should not be used in calculations)\n",
    "\n",
    "and returns a vector with predicted ratings for all products for this user.\n",
    "\n",
    "In order to calculate the rating forecast, we will use the simplified formula for User-Based Recommender Systems:\n",
    "\n",
    "$$ \\hat{R}_{ui} = \\frac{\\sum_{v \\in N(u)} s_{uv}R_{vi}}{\\sum_{v \\in N(u)} \\left| s_{uv}\\right|} $$\n"
   ]
  },
  {
   "cell_type": "markdown",
   "metadata": {},
   "source": [
    "### _Решение_"
   ]
  },
  {
   "cell_type": "code",
   "execution_count": null,
   "metadata": {},
   "outputs": [],
   "source": [
    "def rate_items_user(u, R, n_neigbours=30):\n",
    "    predictions = csr_matrix((1, R.shape[1]))\n",
    "    cumsim = 0.0\n",
    "    num_predictions = csr_matrix((1, R.shape[1]))\n",
    "    s = np.array([cosine_similarity_pair_users(R[u], R[v]) for v in range(R.shape[0])])\n",
    "    similar_users = np.argsort(s)[::-1]\n",
    "    print(np.sort(s)[::-1])\n",
    "    for v in similar_users[:n_neigbours]:\n",
    "        if v == u:\n",
    "            continue\n",
    "        user_sim = s[v]\n",
    "        predictions += user_sim * R[v]\n",
    "        cumsim += np.abs(user_sim)\n",
    "    predictions /= cumsim\n",
    "    return predictions"
   ]
  },
  {
   "cell_type": "raw",
   "metadata": {},
   "source": [
    " For example, will calculate 5 films with the highest predicted rating for users with id 19 (20th row in the rating matrix).\n",
    "We use 30 nearest neighbors for averaging\n",
    "Among these 5 films we consoder there should be no previously viewed films."
   ]
  },
  {
   "cell_type": "code",
   "execution_count": null,
   "metadata": {},
   "outputs": [],
   "source": [
    "R_hat = rate_items_user(20, R, n_neigbours=30)"
   ]
  },
  {
   "cell_type": "code",
   "execution_count": null,
   "metadata": {},
   "outputs": [],
   "source": [
    "rated_items = (R[20] == 0)\n",
    "unseen_ratings = R_hat.multiply(rated_items)\n",
    "unseen_ratings = unseen_ratings.toarray()[0]"
   ]
  },
  {
   "cell_type": "code",
   "execution_count": null,
   "metadata": {},
   "outputs": [],
   "source": [
    "idx = unseen_ratings.argsort()[::-1]"
   ]
  },
  {
   "cell_type": "code",
   "execution_count": null,
   "metadata": {},
   "outputs": [],
   "source": [
    "unseen_ratings[idx]"
   ]
  },
  {
   "cell_type": "code",
   "execution_count": null,
   "metadata": {},
   "outputs": [],
   "source": [
    "top5 = idx[:5]"
   ]
  },
  {
   "cell_type": "code",
   "execution_count": null,
   "metadata": {},
   "outputs": [],
   "source": [
    "top5  #answer"
   ]
  }
 ],
 "metadata": {
  "anaconda-cloud": {},
  "kernelspec": {
   "display_name": "Python 3",
   "language": "python",
   "name": "python3"
  },
  "language_info": {
   "codemirror_mode": {
    "name": "ipython",
    "version": 3
   },
   "file_extension": ".py",
   "mimetype": "text/x-python",
   "name": "python",
   "nbconvert_exporter": "python",
   "pygments_lexer": "ipython3",
   "version": "3.8.2"
  },
  "toc": {
   "base_numbering": 1,
   "nav_menu": {
    "height": "69px",
    "width": "253px"
   },
   "number_sections": true,
   "sideBar": true,
   "skip_h1_title": false,
   "title_cell": "Table of Contents",
   "title_sidebar": "Contents",
   "toc_cell": false,
   "toc_position": {},
   "toc_section_display": "block",
   "toc_window_display": false
  }
 },
 "nbformat": 4,
 "nbformat_minor": 2
}
